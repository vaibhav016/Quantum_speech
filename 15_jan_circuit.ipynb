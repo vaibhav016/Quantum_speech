{
  "nbformat": 4,
  "nbformat_minor": 0,
  "metadata": {
    "colab": {
      "name": "15_jan_circuit.ipynb",
      "provenance": [],
      "collapsed_sections": [],
      "mount_file_id": "1aQ_1Hj-536KBoz3sF-qJQKQCgb-RDtVI",
      "authorship_tag": "ABX9TyPNtsON8BXe1N267T9OX6vq",
      "include_colab_link": true
    },
    "kernelspec": {
      "name": "python3",
      "display_name": "Python 3"
    },
    "language_info": {
      "name": "python"
    },
    "accelerator": "GPU"
  },
  "cells": [
    {
      "cell_type": "markdown",
      "metadata": {
        "id": "view-in-github",
        "colab_type": "text"
      },
      "source": [
        "<a href=\"https://colab.research.google.com/github/vaibhav016/Quantum_speech/blob/main/15_jan_circuit.ipynb\" target=\"_parent\"><img src=\"https://colab.research.google.com/assets/colab-badge.svg\" alt=\"Open In Colab\"/></a>"
      ]
    },
    {
      "cell_type": "code",
      "source": [
        "cd .."
      ],
      "metadata": {
        "colab": {
          "base_uri": "https://localhost:8080/"
        },
        "id": "iepjmup3Mezg",
        "outputId": "196240fa-bd31-46d4-cc23-e2733bd9d3ef"
      },
      "execution_count": 1,
      "outputs": [
        {
          "output_type": "stream",
          "name": "stdout",
          "text": [
            "/\n"
          ]
        }
      ]
    },
    {
      "cell_type": "code",
      "execution_count": 2,
      "metadata": {
        "id": "2nphVHhuG_nm"
      },
      "outputs": [],
      "source": [
        "mkdir dataset\n"
      ]
    },
    {
      "cell_type": "code",
      "source": [
        "cd dataset"
      ],
      "metadata": {
        "colab": {
          "base_uri": "https://localhost:8080/"
        },
        "id": "utIYDVeVMqvf",
        "outputId": "860b9d28-f9eb-415e-9b1a-7151fb6709fc"
      },
      "execution_count": 3,
      "outputs": [
        {
          "output_type": "stream",
          "name": "stdout",
          "text": [
            "/dataset\n"
          ]
        }
      ]
    },
    {
      "cell_type": "code",
      "source": [
        "!wget http://download.tensorflow.org/data/speech_commands_v0.01.tar.gz"
      ],
      "metadata": {
        "colab": {
          "base_uri": "https://localhost:8080/"
        },
        "id": "ia45LACgHaGC",
        "outputId": "704879ff-5b2a-4551-da06-0a2de79fb015"
      },
      "execution_count": 4,
      "outputs": [
        {
          "output_type": "stream",
          "name": "stdout",
          "text": [
            "--2022-01-15 23:29:47--  http://download.tensorflow.org/data/speech_commands_v0.01.tar.gz\n",
            "Resolving download.tensorflow.org (download.tensorflow.org)... 142.251.107.128, 2607:f8b0:400c:c32::80\n",
            "Connecting to download.tensorflow.org (download.tensorflow.org)|142.251.107.128|:80... connected.\n",
            "HTTP request sent, awaiting response... 200 OK\n",
            "Length: 1489096277 (1.4G) [application/gzip]\n",
            "Saving to: ‘speech_commands_v0.01.tar.gz’\n",
            "\n",
            "speech_commands_v0. 100%[===================>]   1.39G   188MB/s    in 8.1s    \n",
            "\n",
            "2022-01-15 23:29:55 (176 MB/s) - ‘speech_commands_v0.01.tar.gz’ saved [1489096277/1489096277]\n",
            "\n"
          ]
        }
      ]
    },
    {
      "cell_type": "code",
      "source": [
        "!tar -xf speech_commands_v0.01.tar.gz"
      ],
      "metadata": {
        "id": "aPFuYRGnHl2u"
      },
      "execution_count": 5,
      "outputs": []
    },
    {
      "cell_type": "code",
      "source": [
        "pip install pennylane"
      ],
      "metadata": {
        "colab": {
          "base_uri": "https://localhost:8080/"
        },
        "id": "uw0MwAFCLP4J",
        "outputId": "65abfb14-087d-4db3-dff3-da8e2da6ad19"
      },
      "execution_count": 6,
      "outputs": [
        {
          "output_type": "stream",
          "name": "stdout",
          "text": [
            "Collecting pennylane\n",
            "  Downloading PennyLane-0.20.0-py3-none-any.whl (756 kB)\n",
            "\u001b[?25l\r\u001b[K     |▍                               | 10 kB 31.8 MB/s eta 0:00:01\r\u001b[K     |▉                               | 20 kB 18.0 MB/s eta 0:00:01\r\u001b[K     |█▎                              | 30 kB 10.2 MB/s eta 0:00:01\r\u001b[K     |█▊                              | 40 kB 8.3 MB/s eta 0:00:01\r\u001b[K     |██▏                             | 51 kB 5.1 MB/s eta 0:00:01\r\u001b[K     |██▋                             | 61 kB 5.3 MB/s eta 0:00:01\r\u001b[K     |███                             | 71 kB 5.3 MB/s eta 0:00:01\r\u001b[K     |███▌                            | 81 kB 6.0 MB/s eta 0:00:01\r\u001b[K     |████                            | 92 kB 6.0 MB/s eta 0:00:01\r\u001b[K     |████▎                           | 102 kB 5.0 MB/s eta 0:00:01\r\u001b[K     |████▊                           | 112 kB 5.0 MB/s eta 0:00:01\r\u001b[K     |█████▏                          | 122 kB 5.0 MB/s eta 0:00:01\r\u001b[K     |█████▋                          | 133 kB 5.0 MB/s eta 0:00:01\r\u001b[K     |██████                          | 143 kB 5.0 MB/s eta 0:00:01\r\u001b[K     |██████▌                         | 153 kB 5.0 MB/s eta 0:00:01\r\u001b[K     |███████                         | 163 kB 5.0 MB/s eta 0:00:01\r\u001b[K     |███████▍                        | 174 kB 5.0 MB/s eta 0:00:01\r\u001b[K     |███████▉                        | 184 kB 5.0 MB/s eta 0:00:01\r\u001b[K     |████████▎                       | 194 kB 5.0 MB/s eta 0:00:01\r\u001b[K     |████████▋                       | 204 kB 5.0 MB/s eta 0:00:01\r\u001b[K     |█████████                       | 215 kB 5.0 MB/s eta 0:00:01\r\u001b[K     |█████████▌                      | 225 kB 5.0 MB/s eta 0:00:01\r\u001b[K     |██████████                      | 235 kB 5.0 MB/s eta 0:00:01\r\u001b[K     |██████████▍                     | 245 kB 5.0 MB/s eta 0:00:01\r\u001b[K     |██████████▉                     | 256 kB 5.0 MB/s eta 0:00:01\r\u001b[K     |███████████▎                    | 266 kB 5.0 MB/s eta 0:00:01\r\u001b[K     |███████████▊                    | 276 kB 5.0 MB/s eta 0:00:01\r\u001b[K     |████████████▏                   | 286 kB 5.0 MB/s eta 0:00:01\r\u001b[K     |████████████▋                   | 296 kB 5.0 MB/s eta 0:00:01\r\u001b[K     |█████████████                   | 307 kB 5.0 MB/s eta 0:00:01\r\u001b[K     |█████████████▍                  | 317 kB 5.0 MB/s eta 0:00:01\r\u001b[K     |█████████████▉                  | 327 kB 5.0 MB/s eta 0:00:01\r\u001b[K     |██████████████▎                 | 337 kB 5.0 MB/s eta 0:00:01\r\u001b[K     |██████████████▊                 | 348 kB 5.0 MB/s eta 0:00:01\r\u001b[K     |███████████████▏                | 358 kB 5.0 MB/s eta 0:00:01\r\u001b[K     |███████████████▋                | 368 kB 5.0 MB/s eta 0:00:01\r\u001b[K     |████████████████                | 378 kB 5.0 MB/s eta 0:00:01\r\u001b[K     |████████████████▌               | 389 kB 5.0 MB/s eta 0:00:01\r\u001b[K     |█████████████████               | 399 kB 5.0 MB/s eta 0:00:01\r\u001b[K     |█████████████████▎              | 409 kB 5.0 MB/s eta 0:00:01\r\u001b[K     |█████████████████▊              | 419 kB 5.0 MB/s eta 0:00:01\r\u001b[K     |██████████████████▏             | 430 kB 5.0 MB/s eta 0:00:01\r\u001b[K     |██████████████████▋             | 440 kB 5.0 MB/s eta 0:00:01\r\u001b[K     |███████████████████             | 450 kB 5.0 MB/s eta 0:00:01\r\u001b[K     |███████████████████▌            | 460 kB 5.0 MB/s eta 0:00:01\r\u001b[K     |████████████████████            | 471 kB 5.0 MB/s eta 0:00:01\r\u001b[K     |████████████████████▍           | 481 kB 5.0 MB/s eta 0:00:01\r\u001b[K     |████████████████████▉           | 491 kB 5.0 MB/s eta 0:00:01\r\u001b[K     |█████████████████████▏          | 501 kB 5.0 MB/s eta 0:00:01\r\u001b[K     |█████████████████████▋          | 512 kB 5.0 MB/s eta 0:00:01\r\u001b[K     |██████████████████████          | 522 kB 5.0 MB/s eta 0:00:01\r\u001b[K     |██████████████████████▌         | 532 kB 5.0 MB/s eta 0:00:01\r\u001b[K     |███████████████████████         | 542 kB 5.0 MB/s eta 0:00:01\r\u001b[K     |███████████████████████▍        | 552 kB 5.0 MB/s eta 0:00:01\r\u001b[K     |███████████████████████▉        | 563 kB 5.0 MB/s eta 0:00:01\r\u001b[K     |████████████████████████▎       | 573 kB 5.0 MB/s eta 0:00:01\r\u001b[K     |████████████████████████▊       | 583 kB 5.0 MB/s eta 0:00:01\r\u001b[K     |█████████████████████████▏      | 593 kB 5.0 MB/s eta 0:00:01\r\u001b[K     |█████████████████████████▌      | 604 kB 5.0 MB/s eta 0:00:01\r\u001b[K     |██████████████████████████      | 614 kB 5.0 MB/s eta 0:00:01\r\u001b[K     |██████████████████████████▍     | 624 kB 5.0 MB/s eta 0:00:01\r\u001b[K     |██████████████████████████▉     | 634 kB 5.0 MB/s eta 0:00:01\r\u001b[K     |███████████████████████████▎    | 645 kB 5.0 MB/s eta 0:00:01\r\u001b[K     |███████████████████████████▊    | 655 kB 5.0 MB/s eta 0:00:01\r\u001b[K     |████████████████████████████▏   | 665 kB 5.0 MB/s eta 0:00:01\r\u001b[K     |████████████████████████████▋   | 675 kB 5.0 MB/s eta 0:00:01\r\u001b[K     |█████████████████████████████   | 686 kB 5.0 MB/s eta 0:00:01\r\u001b[K     |█████████████████████████████▌  | 696 kB 5.0 MB/s eta 0:00:01\r\u001b[K     |█████████████████████████████▉  | 706 kB 5.0 MB/s eta 0:00:01\r\u001b[K     |██████████████████████████████▎ | 716 kB 5.0 MB/s eta 0:00:01\r\u001b[K     |██████████████████████████████▊ | 727 kB 5.0 MB/s eta 0:00:01\r\u001b[K     |███████████████████████████████▏| 737 kB 5.0 MB/s eta 0:00:01\r\u001b[K     |███████████████████████████████▋| 747 kB 5.0 MB/s eta 0:00:01\r\u001b[K     |████████████████████████████████| 756 kB 5.0 MB/s \n",
            "\u001b[?25hRequirement already satisfied: cachetools in /usr/local/lib/python3.7/dist-packages (from pennylane) (4.2.4)\n",
            "Requirement already satisfied: scipy in /usr/local/lib/python3.7/dist-packages (from pennylane) (1.4.1)\n",
            "Requirement already satisfied: networkx in /usr/local/lib/python3.7/dist-packages (from pennylane) (2.6.3)\n",
            "Requirement already satisfied: numpy in /usr/local/lib/python3.7/dist-packages (from pennylane) (1.19.5)\n",
            "Collecting semantic-version==2.6\n",
            "  Downloading semantic_version-2.6.0-py3-none-any.whl (14 kB)\n",
            "Requirement already satisfied: autograd in /usr/local/lib/python3.7/dist-packages (from pennylane) (1.3)\n",
            "Requirement already satisfied: toml in /usr/local/lib/python3.7/dist-packages (from pennylane) (0.10.2)\n",
            "Collecting autoray\n",
            "  Downloading autoray-0.2.5-py3-none-any.whl (16 kB)\n",
            "Collecting pennylane-lightning>=0.18\n",
            "  Downloading PennyLane_Lightning-0.20.2-cp37-cp37m-manylinux2014_x86_64.whl (305 kB)\n",
            "\u001b[K     |████████████████████████████████| 305 kB 71.1 MB/s \n",
            "\u001b[?25hRequirement already satisfied: appdirs in /usr/local/lib/python3.7/dist-packages (from pennylane) (1.4.4)\n",
            "Collecting ninja\n",
            "  Downloading ninja-1.10.2.3-py2.py3-none-manylinux_2_5_x86_64.manylinux1_x86_64.whl (108 kB)\n",
            "\u001b[K     |████████████████████████████████| 108 kB 78.2 MB/s \n",
            "\u001b[?25hRequirement already satisfied: future>=0.15.2 in /usr/local/lib/python3.7/dist-packages (from autograd->pennylane) (0.16.0)\n",
            "Installing collected packages: ninja, semantic-version, pennylane-lightning, autoray, pennylane\n",
            "Successfully installed autoray-0.2.5 ninja-1.10.2.3 pennylane-0.20.0 pennylane-lightning-0.20.2 semantic-version-2.6.0\n"
          ]
        }
      ]
    },
    {
      "cell_type": "code",
      "source": [
        "cd .."
      ],
      "metadata": {
        "colab": {
          "base_uri": "https://localhost:8080/"
        },
        "id": "9ppYgG2ONA_-",
        "outputId": "984a5ead-3c61-4a38-f3db-9ef884396cc6"
      },
      "execution_count": 7,
      "outputs": [
        {
          "output_type": "stream",
          "name": "stdout",
          "text": [
            "/\n"
          ]
        }
      ]
    },
    {
      "cell_type": "code",
      "source": [
        "import pennylane as qml\n",
        "from pennylane import numpy as np\n",
        "import pennylane as qml\n",
        "import tensorflow as tf\n",
        "import sklearn.datasets\n",
        "import os\n",
        "import librosa\n",
        "import matplotlib.pyplot as plt\n",
        "from scipy.io import wavfile\n",
        "from tqdm import tqdm\n",
        "import warnings\n",
        "import tensorflow as tf\n",
        "\n",
        "\n",
        "from sklearn.preprocessing import LabelEncoder\n",
        "from tensorflow import keras\n",
        "from tensorflow.keras.optimizers import RMSprop, SGD\n",
        "\n",
        "from sklearn.model_selection import train_test_split\n",
        "wires = 8  \n",
        "dev = qml.device('default.qubit', wires=wires)\n",
        "train_audio_path = 'dataset/'\n",
        "sr=16000\n"
      ],
      "metadata": {
        "id": "DP1JHSBRKQQm"
      },
      "execution_count": 8,
      "outputs": []
    },
    {
      "cell_type": "code",
      "source": [
        "# Generating mel \n",
        "def gen_mel(labels, train_audio_path, sr):\n",
        "    all_wave = []\n",
        "    all_label = []\n",
        "    for label in tqdm(labels):\n",
        "        waves = [f for f in os.listdir(train_audio_path + '/'+ label) if f.endswith('.wav')]\n",
        "        for num, wav in enumerate(waves, 0):\n",
        "            y, _ = librosa.load(train_audio_path + '/' + label + '/' + wav, sr = sr)\n",
        "            if(len(y)== sr) :\n",
        "                mel_feat = librosa.feature.melspectrogram(y, sr=sr, n_fft=1024, hop_length=1024, power=1.0, n_mels=16, fmin=40.0, fmax=sr/2)\n",
        "                all_wave.append(np.reshape(mel_feat,-1))\n",
        "                all_label.append(label)\n",
        "\n",
        "    return all_wave, all_label\n",
        "\n",
        "labels = [\n",
        "    'left', 'go', 'yes', 'down', 'up', 'on', 'right', 'no', 'off', 'stop',\n",
        "]\n",
        "\n",
        "train_audio_path = 'dataset/'\n",
        "\n",
        "all_wave, all_label = gen_mel(labels, train_audio_path, sr)"
      ],
      "metadata": {
        "colab": {
          "base_uri": "https://localhost:8080/"
        },
        "id": "h82NxJW8K3WP",
        "outputId": "041bf5d5-ef83-43c2-9f95-1400157d9a47"
      },
      "execution_count": 9,
      "outputs": [
        {
          "output_type": "stream",
          "name": "stderr",
          "text": [
            "100%|██████████| 10/10 [00:24<00:00,  2.43s/it]\n"
          ]
        }
      ]
    },
    {
      "cell_type": "code",
      "source": [
        "# making training data \n",
        "label_enconder = LabelEncoder()\n",
        "y = label_enconder.fit_transform(all_label)\n",
        "classes = list(label_enconder.classes_)\n",
        "y = keras.utils.to_categorical(y, num_classes=len(labels))\n",
        "\n",
        "# input_mel = tf.convert_to_tensor(all_wave, dtype=tf.float32)\n",
        "# print(input_mel.shape)\n",
        "\n",
        "# y_tf = tf.convert_to_tensor(y, dtype=tf.float32)\n",
        "# print(y.shape)\n",
        "\n",
        "x_train, x_valid, y_train, y_valid = train_test_split(np.array(all_wave),np.array(y),test_size = 0.2,random_state=777,shuffle=True)\n"
      ],
      "metadata": {
        "id": "KJsUkGcoLZVN"
      },
      "execution_count": 10,
      "outputs": []
    },
    {
      "cell_type": "code",
      "source": [
        "def conv_alternate_inner_circuit(weights, i, j): \n",
        "#     print(\"inside alternate_circuit, weights shape\", weights, weights.shape)\n",
        "    qml.CNOT(wires=[j, i])\n",
        "    qml.RZ(weights[0], wires = i)\n",
        "    qml.RY(weights[1], wires = j)\n",
        "    qml.CNOT(wires=[i, j])\n",
        "    qml.RY(weights[2], wires = j)\n",
        "    qml.CNOT(wires=[j, i])\n",
        "\n",
        "def conv_circuit_join(weights):\n",
        "#     print(\"inside conv_circuit, weights shape\", weights, weights.shape)\n",
        "    for i in range(1,7,2):\n",
        "        conv_alternate_inner_circuit(weights[i], i, i+1)\n",
        "    for i in range(0,7,2):\n",
        "        conv_alternate_inner_circuit(weights[i], i, i+1)\n",
        "\n",
        "def quantum_pooling():\n",
        "    # both these cnot and S are non-parametric gates, so no weights.\n",
        "    for i in range(0,7,2):\n",
        "        qml.CNOT(wires=[i+1, i])\n",
        "        qml.S(wires=i)"
      ],
      "metadata": {
        "id": "7peCaISGMHMI"
      },
      "execution_count": 11,
      "outputs": []
    },
    {
      "cell_type": "code",
      "source": [
        "@qml.qnode(dev)\n",
        "def qnode(inputs, weights_conv_0,weights_conv_1, weights_conv_2, weights_conv_3):\n",
        "    qml.AmplitudeEmbedding(inputs, wires=range(8), pad_with=0.,normalize=True) # state preparation. \n",
        "    conv_circuit_join(weights_conv_0)  \n",
        "    quantum_pooling()\n",
        "    conv_alternate_inner_circuit(weights_conv_1, 0, 2)\n",
        "    conv_alternate_inner_circuit(weights_conv_2,4, 6)\n",
        "    conv_alternate_inner_circuit(weights_conv_3,2, 6)\n",
        "    \n",
        "    #Last pooling \n",
        "    qml.CNOT(wires=[2, 0])\n",
        "    qml.S(wires=0)\n",
        "    \n",
        "    qml.CNOT(wires=[6, 4])\n",
        "    qml.S(wires=4)\n",
        "    \n",
        "    # Final fully connected layer for binary classification\n",
        "    qml.CNOT(wires=[0, 4])\n",
        "    \n",
        "    m = [qml.expval(qml.PauliZ(i)) for i in range(8)]\n",
        "    return m"
      ],
      "metadata": {
        "id": "A9QL_5h9MLRf"
      },
      "execution_count": 12,
      "outputs": []
    },
    {
      "cell_type": "code",
      "source": [
        "def create_quantum_model():\n",
        "    weight_shapes = {\"weights_conv_0\": (8,3),\"weights_conv_1\":[3],\"weights_conv_2\":[3]\n",
        "                ,\"weights_conv_3\":[3]}\n",
        "    qlayer = qml.qnn.KerasLayer(qnode, weight_shapes, output_dim=8)\n",
        "    clayer2 = keras.layers.Dense(10, activation=\"softmax\")\n",
        "    model = tf.keras.models.Sequential([qlayer, clayer2])\n",
        "    \n",
        "    model.compile(\n",
        "        optimizer=SGD(lr=0.01, momentum=0.9),\n",
        "        loss=\"categorical_crossentropy\",\n",
        "        metrics=[\"accuracy\"]\n",
        "    )\n",
        "    \n",
        "    return model\n",
        "\n",
        "    \n",
        "model_qcnn = create_quantum_model()\n",
        "\n",
        "\n"
      ],
      "metadata": {
        "id": "NBR8xd7VMNaO",
        "colab": {
          "base_uri": "https://localhost:8080/"
        },
        "outputId": "4b3a6a4f-05a1-4491-9416-28079fdeaab4"
      },
      "execution_count": 13,
      "outputs": [
        {
          "output_type": "stream",
          "name": "stderr",
          "text": [
            "/usr/local/lib/python3.7/dist-packages/keras/optimizer_v2/gradient_descent.py:102: UserWarning: The `lr` argument is deprecated, use `learning_rate` instead.\n",
            "  super(SGD, self).__init__(name, **kwargs)\n"
          ]
        }
      ]
    },
    {
      "cell_type": "code",
      "source": [
        "checkpoint_path = \"content/drive/MyDrive/training_1/cp.ckpt\"\n",
        "checkpoint_dir = os.path.dirname(checkpoint_path)\n",
        "\n",
        "latest = tf.train.latest_checkpoint(checkpoint_dir)\n",
        "latest"
      ],
      "metadata": {
        "colab": {
          "base_uri": "https://localhost:8080/",
          "height": 35
        },
        "id": "7LvIJH7dFhpK",
        "outputId": "be57c7aa-07f8-4f12-bcea-1bfc4d45c6bc"
      },
      "execution_count": 27,
      "outputs": [
        {
          "output_type": "execute_result",
          "data": {
            "application/vnd.google.colaboratory.intrinsic+json": {
              "type": "string"
            },
            "text/plain": [
              "'content/drive/MyDrive/training_1/cp.ckpt'"
            ]
          },
          "metadata": {},
          "execution_count": 27
        }
      ]
    },
    {
      "cell_type": "code",
      "source": [
        ""
      ],
      "metadata": {
        "colab": {
          "base_uri": "https://localhost:8080/"
        },
        "id": "gAm6AOvZGbeY",
        "outputId": "b7fbd280-4cf5-4341-e895-b47c00774dcd"
      },
      "execution_count": 23,
      "outputs": [
        {
          "output_type": "stream",
          "name": "stdout",
          "text": [
            "None\n"
          ]
        }
      ]
    },
    {
      "cell_type": "code",
      "source": [
        "\n",
        "# Create a callback that saves the model's weights\n",
        "cp_callback = tf.keras.callbacks.ModelCheckpoint(filepath=checkpoint_path,\n",
        "                                                 save_weights_only=True, save_freq='epoch',\n",
        "                                                 verbose=1)\n",
        "\n"
      ],
      "metadata": {
        "id": "22hYAYghMQIm"
      },
      "execution_count": 28,
      "outputs": []
    },
    {
      "cell_type": "code",
      "source": [
        "model_qcnn.load_weights(latest)"
      ],
      "metadata": {
        "colab": {
          "base_uri": "https://localhost:8080/"
        },
        "id": "2CU1_QICGPYU",
        "outputId": "84ae7467-144b-4ce9-b40e-b156e2005a52"
      },
      "execution_count": 29,
      "outputs": [
        {
          "output_type": "execute_result",
          "data": {
            "text/plain": [
              "<tensorflow.python.training.tracking.util.CheckpointLoadStatus at 0x7f14700fcc90>"
            ]
          },
          "metadata": {},
          "execution_count": 29
        }
      ]
    },
    {
      "cell_type": "code",
      "source": [
        "dx, dy = x_train[:20], y_train[:20]\n",
        "model_qcnn.fit(\n",
        "    x_train,\n",
        "    y_train,\n",
        "    batch_size=20,\n",
        "    epochs=10,\n",
        "    verbose=1,\n",
        "callbacks=[cp_callback])\n"
      ],
      "metadata": {
        "colab": {
          "base_uri": "https://localhost:8080/"
        },
        "id": "Xn9mRPU3MSQe",
        "outputId": "573d8a0e-0fdb-4d21-f3c0-b53d1283d2b9"
      },
      "execution_count": null,
      "outputs": [
        {
          "output_type": "stream",
          "name": "stdout",
          "text": [
            "Epoch 1/10\n",
            "  9/853 [..............................] - ETA: 1:14:31 - loss: 1.7909 - accuracy: 0.2944"
          ]
        }
      ]
    },
    {
      "cell_type": "code",
      "source": [
        ""
      ],
      "metadata": {
        "id": "tQaG3WgfNp74"
      },
      "execution_count": null,
      "outputs": []
    }
  ]
}